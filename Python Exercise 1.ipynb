{
 "cells": [
  {
   "cell_type": "code",
   "execution_count": 14,
   "metadata": {},
   "outputs": [
    {
     "name": "stdout",
     "output_type": "stream",
     "text": [
      "[[1]\n",
      " [1]\n",
      " [1]]\n",
      "[[ 0.99752738]\n",
      " [ 0.99752738]\n",
      " [ 0.99752738]]\n"
     ]
    }
   ],
   "source": [
    "# %%%%%%%%%%%%% Python %%%%%%%%%%%%%%%%%%%%%%%%%%%\n",
    "# %%%%%%%%%%%%% Authors  %%%%%%%%%%%%%%%%%%%%%%%%%%%%%%%%\n",
    "# Dr. Martin Hagan----->Email: mhagan@okstate.edu\n",
    "# Dr. Amir Jafari------>Email: amir.h.jafari@okstate.edu\n",
    "# %%%%%%%%%%%%% Date:\n",
    "# V1 Jan - 04 - 2018\n",
    "# %%%%%%%%%%%%%%%%%%%%%%%%%%%%%%%%%%%%%%%%%%%%%%%%%%%%%%%\n",
    "# %%%%%%%%%%%%% Math Python %%%%%%%%%%%%%%%%%%%%%%%%%%%%\n",
    "# =============================================================\n",
    "# ----------------------------------------------------------------------------------------------------------------------\n",
    "# --------------------------------------------Probablity ---------------------------------------------------------------\n",
    "# ----------------------------------------------------------------------------------------------------------------------\n",
    "\n",
    "# Q-1: Import packages that you can generate random numbers.\n",
    "import matplotlib.pyplot as plt\n",
    "import numpy as np\n",
    "import math\n",
    "import random\n",
    "import seaborn as sns\n",
    "\n",
    "matrix1 = np.array([[1,2,3], [1,2,3],[1,2,3]])\n",
    "matrix2 = np.array([[1],[1],[1]])\n",
    "matrixmult = np.dot(matrix1, matrix2)\n",
    "logsig=1/(1+np.exp(-matrixmult))\n",
    "print(matrix2)\n",
    "print(logsig)"
   ]
  },
  {
   "cell_type": "code",
   "execution_count": 19,
   "metadata": {},
   "outputs": [
    {
     "data": {
      "text/plain": [
       "<matplotlib.axes._subplots.AxesSubplot at 0x2820a251940>"
      ]
     },
     "execution_count": 19,
     "metadata": {},
     "output_type": "execute_result"
    },
    {
     "data": {
      "image/png": "[encoded data removed]",
      "text/plain": [
       "<matplotlib.figure.Figure at 0x28207570d30>"
      ]
     },
     "metadata": {},
     "output_type": "display_data"
    }
   ],
   "source": [
    "%matplotlib inline\n",
    "# ----------------------------------------------------------------------------------------------------------------------\n",
    "\n",
    "# Q-2: a) Generate 100 samples points from a uniform distribution. Plot your results and verify it.\n",
    "\n",
    "#Generate 100 points between 1 and 20\n",
    "s = np.random.uniform(1,20,100)\n",
    "\n",
    "#Plot a histogram showing the distribution of the sample \n",
    "sns.distplot(s)"
   ]
  },
  {
   "cell_type": "code",
   "execution_count": 21,
   "metadata": {},
   "outputs": [
    {
     "data": {
      "text/plain": [
       "<matplotlib.axes._subplots.AxesSubplot at 0x2820a1b6dd8>"
      ]
     },
     "execution_count": 21,
     "metadata": {},
     "output_type": "execute_result"
    },
    {
     "data": {
      "image/png": "[encoded data removed]",
      "text/plain": [
       "<matplotlib.figure.Figure at 0x2820a4732b0>"
      ]
     },
     "metadata": {},
     "output_type": "display_data"
    }
   ],
   "source": [
    "# ----------------------------------------------------------------------------------------------------------------------\n",
    "\n",
    "# Q-2: b)Generate 1000 samples points from normal distribution (with mean zero and std 1). Plot your results and verify it.\n",
    "\n",
    "#1000 random sample points from a normal distribution\n",
    "mu, sigma = 0, 1 # mean and standard deviation\n",
    "n = np.random.normal(mu, sigma, 1000)\n",
    "\n",
    "#Plot a histogram showing the distribution of the sample\n",
    "sns.distplot(n)"
   ]
  },
  {
   "cell_type": "code",
   "execution_count": 43,
   "metadata": {},
   "outputs": [
    {
     "name": "stdout",
     "output_type": "stream",
     "text": [
      "[[0 1 2]]\n",
      "\n",
      "[[0 1 2]\n",
      " [3 4 5]\n",
      " [6 7 8]]\n",
      "\n",
      "[[ 0  1  2  3  4]\n",
      " [ 5  6  7  8  9]\n",
      " [10 11 12 13 14]\n",
      " [15 16 17 18 19]\n",
      " [20 21 22 23 24]]\n",
      "\n",
      "[[ 0  1  4]\n",
      " [ 0  4 10]\n",
      " [ 0  7 16]]\n"
     ]
    }
   ],
   "source": [
    "# ----------------------------------------------------------------------------------------------------------------------\n",
    "# Q-3: a)Generate a list of numbers (random or arbitary) and convert it to a numpy array.\n",
    "\n",
    "s = np.random.normal(mu, sigma, 1000)\n",
    "s_array = np.array(s)\n",
    "#Call s_array to check\n",
    "#print(s_array)\n",
    "\n",
    "# ----------------------------------------------------------------------------------------------------------------------\n",
    "\n",
    "# Q-3: b)Create 1x3, 3x3 and 5x5 size matrices. Use different python methods to generates these matrices that you know of (It can be random or manually enter numbers).\n",
    "\n",
    "x = range(3)\n",
    "x = np.reshape(x,(1,3)) \n",
    "print(x) \n",
    "print()\n",
    "\n",
    "y = range(9)\n",
    "y = np.reshape(y,(3,3))\n",
    "print(y)\n",
    "print()\n",
    "\n",
    "z = range(25)\n",
    "z = np.reshape(z,(5,5))\n",
    "print(z)\n",
    "print()\n",
    "\n",
    "# ----------------------------------------------------------------------------------------------------------------------\n",
    "# Q-3: c) Multiply the first two matrix by the other elementwise and matrix multiplication if it is possible. Check your results by hand.\n",
    "\n",
    "xy = x * y\n",
    "print(xy)\n",
    "#Checks out! The multiplication is correct."
   ]
  },
  {
   "cell_type": "code",
   "execution_count": 66,
   "metadata": {},
   "outputs": [
    {
     "name": "stdout",
     "output_type": "stream",
     "text": [
      "[[0 1 2]\n",
      " [3 4 5]\n",
      " [6 7 8]]\n",
      "\n",
      "15\n",
      "The mean of the vector is:\n",
      "238.739651193\n",
      "The standard deviation of the vector is:\n",
      "153.409839243\n",
      "\n",
      "[[0 1 2]\n",
      " [3 4 5]\n",
      " [6 7 8]]\n",
      "\n",
      "[[0 1 2]]\n",
      "\n",
      "[[ 0  1  4]\n",
      " [ 0  4 10]\n",
      " [ 0  7 16]]\n",
      "\n",
      "z = \n",
      " [[ 0  1  4]\n",
      " [ 0  4 10]\n",
      " [ 0  7 16]]\n",
      "g =\n",
      " [[ 0.5         0.73105858  0.98201379]\n",
      " [ 0.5         0.98201379  0.9999546 ]\n",
      " [ 0.5         0.99908895  0.99999989]]\n"
     ]
    },
    {
     "data": {
      "image/png": "[encoded data removed]",
      "text/plain": [
       "<matplotlib.figure.Figure at 0x2820a849390>"
      ]
     },
     "metadata": {},
     "output_type": "display_data"
    }
   ],
   "source": [
    "# ----------------------------------------------------------------------------------------------------------------------\n",
    "# Q-4: a) Create a matrix size of 3x3. Create a new variable and name it var then add the first and second column of matrix then sum the the vector. Save the results in var.\n",
    "\n",
    "mat = range(9)\n",
    "mat = np.reshape(mat,(3,3))\n",
    "print(mat)\n",
    "print()\n",
    "\n",
    "var = mat[0]+mat[1]\n",
    "var = sum(var)\n",
    "print(var)\n",
    "\n",
    "# ----------------------------------------------------------------------------------------------------------------------\n",
    "# Q-4: b) Create a vector of 100 samples (with any python method that you have in your mind). Plot the vector. Calcuate the mean and std.\n",
    "\n",
    "v = np.random.uniform(0, 500, 100)\n",
    "sns.distplot(v)\n",
    "mean_v = sum(v)/len(v)\n",
    "print(\"The mean of the vector is:\")\n",
    "print(mean_v)\n",
    "sd_v = np.std(v)\n",
    "print(\"The standard deviation of the vector is:\")\n",
    "print(sd_v)\n",
    "print()\n",
    "\n",
    "\n",
    "# ----------------------------------------------------------------------------------------------------------------------\n",
    "# Q-4: c) Create a matrix 3x3 and 3x1. Multiply the first matrix by the second matrix. \n",
    "#         Define a logsig transfer function.\n",
    "#         Pass the results of the the multiplication to the transfer function (vector vize). Check does it make sense. Explain your results\n",
    "\n",
    "mat2 = range(9)\n",
    "mat2 = np.reshape(mat2,(3,3))\n",
    "print(mat2)\n",
    "print()\n",
    "\n",
    "mat3 = range(3)\n",
    "mat3 = np.reshape(mat3,(1,3)) \n",
    "print(mat3) \n",
    "print()\n",
    "\n",
    "mat_mult = mat2 * mat3\n",
    "print(mat_mult)\n",
    "print()\n",
    "\n",
    "#Sigmoid function performed manually.\n",
    "print('z = \\n', mat_mult)\n",
    "g = 1 / (1 + np.exp(-mat_mult))\n",
    "print('g =\\n', g)"
   ]
  },
  {
   "cell_type": "code",
   "execution_count": null,
   "metadata": {
    "collapsed": true
   },
   "outputs": [],
   "source": [
    "# ----------------------------------------------------------------------------------------------------------------------\n",
    "# Q-5: a) Expand (x+y)^6.\n",
    "\n",
    "\n",
    "\n",
    "# ----------------------------------------------------------------------------------------------------------------------\n",
    "# Q-5: b) Simplify the trigonometric expression sin(x) / cos(x)\n",
    "\n",
    "\n",
    "\n",
    "# ----------------------------------------------------------------------------------------------------------------------\n",
    "# Q-5: c) Calulate the derivative of log(x) for x\n",
    "\n",
    "\n",
    "\n",
    "# ----------------------------------------------------------------------------------------------------------------------\n",
    "# Q-5: d) Solve the system of equations x + y = 2, 2x + y = 0\n",
    "\n",
    "\n"
   ]
  },
  {
   "cell_type": "code",
   "execution_count": null,
   "metadata": {
    "collapsed": true
   },
   "outputs": [],
   "source": [
    "# ----------------------------------------------------------------------------------------------------------------------\n",
    "# Q-6:  Estimating Pi using the Monte Carlo Method\n",
    "#      1- To estimate a value of Pi using the Monte Carlo method - generate a large number of random points and see\n",
    "#         how many fall in the circle enclosed by the unit square.\n",
    "#      2- Check the following link for instruction\n",
    "#      3- There are variety of codes available in the net please write your own code.\n"
   ]
  }
 ],
 "metadata": {
  "kernelspec": {
   "display_name": "Python 3",
   "language": "python",
   "name": "python3"
  },
  "language_info": {
   "codemirror_mode": {
    "name": "ipython",
    "version": 3
   },
   "file_extension": ".py",
   "mimetype": "text/x-python",
   "name": "python",
   "nbconvert_exporter": "python",
   "pygments_lexer": "ipython3",
   "version": "3.6.1"
  }
 },
 "nbformat": 4,
 "nbformat_minor": 2
}
